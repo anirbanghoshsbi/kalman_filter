{
 "cells": [
  {
   "cell_type": "markdown",
   "metadata": {},
   "source": [
    "### This notebook explores a stock-pairs trading strategy. There are two components to the strategy 1) Use Dynamic Time Warping and K-means to cluster stocks for the purpose of choosing \"good\" stock-pairs. 2) Use a Kalman Filter to predict the \"expected\" spread between the two stocks, and trade the spread when the expected spread is one standard deviation away from the \"actual\" spread."
   ]
  },
  {
   "cell_type": "code",
   "execution_count": 1,
   "metadata": {
    "collapsed": false
   },
   "outputs": [],
   "source": [
    "from fastdtw import fastdtw\n",
    "from scipy.spatial.distance import euclidean"
   ]
  },
  {
   "cell_type": "code",
   "execution_count": 2,
   "metadata": {
    "collapsed": true
   },
   "outputs": [],
   "source": [
    "%matplotlib inline \n",
    "\n",
    "import pandas as pd\n",
    "import matplotlib.pyplot as plt\n",
    "import numpy as np\n",
    "import cv2\n",
    "from PIL import Image\n",
    "import math\n",
    "import scipy.io\n",
    "from sklearn import manifold\n",
    "from sklearn import cluster, datasets, mixture\n",
    "from sklearn.neighbors import kneighbors_graph\n",
    "from sklearn.decomposition import PCA\n",
    "\n",
    "from IPython import display\n",
    "from IPython.core.display import Image\n",
    "\n",
    "# special matplotlib command for global plot configuration\n",
    "from matplotlib import rcParams\n",
    "import matplotlib.cm as cm\n",
    "import matplotlib as mpl\n",
    "import matplotlib.pyplot as plt\n",
    "from mpl_toolkits.mplot3d import Axes3D\n",
    "from matplotlib.colors import ListedColormap\n",
    "\n",
    "\n",
    "\n",
    "import tensorflow as tf\n",
    "\n",
    "from sklearn.preprocessing import StandardScaler"
   ]
  },
  {
   "cell_type": "code",
   "execution_count": 3,
   "metadata": {
    "collapsed": false
   },
   "outputs": [],
   "source": [
    "from __future__ import print_function\n",
    "from pandas_datareader import DataReader\n",
    "from pykalman import KalmanFilter"
   ]
  },
  {
   "cell_type": "code",
   "execution_count": 4,
   "metadata": {
    "collapsed": true,
    "scrolled": true
   },
   "outputs": [],
   "source": [
    "#import zipfile\n",
    "#zip_ref = zipfile.ZipFile(\"C:/Users/rchang/Documents/Robert/Personal/CSCI E-82/Final Project/sp500.zip\", 'r')\n",
    "#zip_ref.extractall(\"C:/Users/rchang/Documents/Robert/Personal/CSCI E-82/Final Project/sp500_unzipped\")"
   ]
  },
  {
   "cell_type": "code",
   "execution_count": 5,
   "metadata": {
    "collapsed": false
   },
   "outputs": [],
   "source": [
    "data=pd.read_csv('C:/Users/rchang/Documents/Robert/Personal/CSCI E-82/Final Project/Final_Project_Kamel_Chang/sp500_unzipped/data_stocks.csv')"
   ]
  },
  {
   "cell_type": "markdown",
   "metadata": {},
   "source": [
    "### In addition to creating a dataframe of prices, we also create a dataframe of log returns. Log returns are used for clustering, prices are used for the Kalman Filter."
   ]
  },
  {
   "cell_type": "code",
   "execution_count": 6,
   "metadata": {
    "collapsed": false
   },
   "outputs": [],
   "source": [
    "df = data.interpolate()\n",
    "df_ret = np.log(1 + df.pct_change(1)).drop('DATE', axis=1) # We \"normalize\" the data by looking at daily log returns instead of absolute prices\n",
    "df_ret = pd.concat([df.iloc[:,0], df_ret], axis=1)\n",
    "df_ret = df_ret.iloc[1:]"
   ]
  },
  {
   "cell_type": "code",
   "execution_count": 7,
   "metadata": {
    "collapsed": false
   },
   "outputs": [],
   "source": [
    "df_ret.drop(df_ret.columns[125:502], axis=1, inplace=True)"
   ]
  },
  {
   "cell_type": "code",
   "execution_count": 8,
   "metadata": {
    "collapsed": false
   },
   "outputs": [],
   "source": [
    "df_new = df.copy()\n",
    "df_new.drop(df_new.columns[125:502], axis=1, inplace=True)"
   ]
  },
  {
   "cell_type": "code",
   "execution_count": 9,
   "metadata": {
    "collapsed": false
   },
   "outputs": [],
   "source": [
    "df_new.drop(df_new.columns[0:1], axis=1, inplace=True)\n",
    "df_new = df_new.transpose()"
   ]
  },
  {
   "cell_type": "code",
   "execution_count": 10,
   "metadata": {
    "collapsed": false
   },
   "outputs": [
    {
     "data": {
      "text/html": [
       "<div>\n",
       "<style>\n",
       "    .dataframe thead tr:only-child th {\n",
       "        text-align: right;\n",
       "    }\n",
       "\n",
       "    .dataframe thead th {\n",
       "        text-align: left;\n",
       "    }\n",
       "\n",
       "    .dataframe tbody tr th {\n",
       "        vertical-align: top;\n",
       "    }\n",
       "</style>\n",
       "<table border=\"1\" class=\"dataframe\">\n",
       "  <thead>\n",
       "    <tr style=\"text-align: right;\">\n",
       "      <th></th>\n",
       "      <th>0</th>\n",
       "      <th>1</th>\n",
       "      <th>2</th>\n",
       "      <th>3</th>\n",
       "      <th>4</th>\n",
       "      <th>5</th>\n",
       "      <th>6</th>\n",
       "      <th>7</th>\n",
       "      <th>8</th>\n",
       "      <th>9</th>\n",
       "      <th>...</th>\n",
       "      <th>41256</th>\n",
       "      <th>41257</th>\n",
       "      <th>41258</th>\n",
       "      <th>41259</th>\n",
       "      <th>41260</th>\n",
       "      <th>41261</th>\n",
       "      <th>41262</th>\n",
       "      <th>41263</th>\n",
       "      <th>41264</th>\n",
       "      <th>41265</th>\n",
       "    </tr>\n",
       "  </thead>\n",
       "  <tbody>\n",
       "    <tr>\n",
       "      <th>SP500</th>\n",
       "      <td>2363.6101</td>\n",
       "      <td>2364.1001</td>\n",
       "      <td>2362.6799</td>\n",
       "      <td>2364.3101</td>\n",
       "      <td>2364.8501</td>\n",
       "      <td>2365.6201</td>\n",
       "      <td>2365.200</td>\n",
       "      <td>2365.29</td>\n",
       "      <td>2364.3201</td>\n",
       "      <td>2364.6399</td>\n",
       "      <td>...</td>\n",
       "      <td>2471.8899</td>\n",
       "      <td>2472.77</td>\n",
       "      <td>2472.8999</td>\n",
       "      <td>2472.6399</td>\n",
       "      <td>2472.02</td>\n",
       "      <td>2472.22</td>\n",
       "      <td>2471.77</td>\n",
       "      <td>2470.030</td>\n",
       "      <td>2471.49</td>\n",
       "      <td>2471.49</td>\n",
       "    </tr>\n",
       "    <tr>\n",
       "      <th>NASDAQ.AAL</th>\n",
       "      <td>42.3300</td>\n",
       "      <td>42.3600</td>\n",
       "      <td>42.3100</td>\n",
       "      <td>42.3700</td>\n",
       "      <td>42.5378</td>\n",
       "      <td>42.5399</td>\n",
       "      <td>42.470</td>\n",
       "      <td>42.47</td>\n",
       "      <td>42.3900</td>\n",
       "      <td>42.3300</td>\n",
       "      <td>...</td>\n",
       "      <td>44.7200</td>\n",
       "      <td>44.73</td>\n",
       "      <td>44.7600</td>\n",
       "      <td>44.7500</td>\n",
       "      <td>44.71</td>\n",
       "      <td>44.72</td>\n",
       "      <td>44.73</td>\n",
       "      <td>44.740</td>\n",
       "      <td>44.71</td>\n",
       "      <td>44.74</td>\n",
       "    </tr>\n",
       "    <tr>\n",
       "      <th>NASDAQ.AAPL</th>\n",
       "      <td>143.6800</td>\n",
       "      <td>143.7000</td>\n",
       "      <td>143.6901</td>\n",
       "      <td>143.6400</td>\n",
       "      <td>143.6600</td>\n",
       "      <td>143.7800</td>\n",
       "      <td>143.864</td>\n",
       "      <td>143.81</td>\n",
       "      <td>143.8150</td>\n",
       "      <td>143.8000</td>\n",
       "      <td>...</td>\n",
       "      <td>164.1600</td>\n",
       "      <td>164.06</td>\n",
       "      <td>164.1900</td>\n",
       "      <td>164.2000</td>\n",
       "      <td>164.14</td>\n",
       "      <td>164.11</td>\n",
       "      <td>164.12</td>\n",
       "      <td>164.010</td>\n",
       "      <td>163.88</td>\n",
       "      <td>163.98</td>\n",
       "    </tr>\n",
       "    <tr>\n",
       "      <th>NASDAQ.ADBE</th>\n",
       "      <td>129.6300</td>\n",
       "      <td>130.3200</td>\n",
       "      <td>130.2250</td>\n",
       "      <td>130.0729</td>\n",
       "      <td>129.8800</td>\n",
       "      <td>130.0700</td>\n",
       "      <td>130.180</td>\n",
       "      <td>130.14</td>\n",
       "      <td>130.1000</td>\n",
       "      <td>130.2100</td>\n",
       "      <td>...</td>\n",
       "      <td>155.0600</td>\n",
       "      <td>155.01</td>\n",
       "      <td>155.1200</td>\n",
       "      <td>155.0900</td>\n",
       "      <td>155.04</td>\n",
       "      <td>155.09</td>\n",
       "      <td>155.16</td>\n",
       "      <td>155.065</td>\n",
       "      <td>154.96</td>\n",
       "      <td>155.16</td>\n",
       "    </tr>\n",
       "    <tr>\n",
       "      <th>NASDAQ.ADI</th>\n",
       "      <td>82.0400</td>\n",
       "      <td>82.0800</td>\n",
       "      <td>82.0300</td>\n",
       "      <td>82.0000</td>\n",
       "      <td>82.0350</td>\n",
       "      <td>82.0400</td>\n",
       "      <td>82.120</td>\n",
       "      <td>82.19</td>\n",
       "      <td>82.2300</td>\n",
       "      <td>82.1650</td>\n",
       "      <td>...</td>\n",
       "      <td>83.7100</td>\n",
       "      <td>83.70</td>\n",
       "      <td>83.6300</td>\n",
       "      <td>83.6900</td>\n",
       "      <td>83.66</td>\n",
       "      <td>83.67</td>\n",
       "      <td>83.65</td>\n",
       "      <td>83.620</td>\n",
       "      <td>83.58</td>\n",
       "      <td>83.69</td>\n",
       "    </tr>\n",
       "  </tbody>\n",
       "</table>\n",
       "<p>5 rows × 41266 columns</p>\n",
       "</div>"
      ],
      "text/plain": [
       "                 0          1          2          3          4          5      \\\n",
       "SP500        2363.6101  2364.1001  2362.6799  2364.3101  2364.8501  2365.6201   \n",
       "NASDAQ.AAL     42.3300    42.3600    42.3100    42.3700    42.5378    42.5399   \n",
       "NASDAQ.AAPL   143.6800   143.7000   143.6901   143.6400   143.6600   143.7800   \n",
       "NASDAQ.ADBE   129.6300   130.3200   130.2250   130.0729   129.8800   130.0700   \n",
       "NASDAQ.ADI     82.0400    82.0800    82.0300    82.0000    82.0350    82.0400   \n",
       "\n",
       "                6        7          8          9       ...         41256  \\\n",
       "SP500        2365.200  2365.29  2364.3201  2364.6399   ...     2471.8899   \n",
       "NASDAQ.AAL     42.470    42.47    42.3900    42.3300   ...       44.7200   \n",
       "NASDAQ.AAPL   143.864   143.81   143.8150   143.8000   ...      164.1600   \n",
       "NASDAQ.ADBE   130.180   130.14   130.1000   130.2100   ...      155.0600   \n",
       "NASDAQ.ADI     82.120    82.19    82.2300    82.1650   ...       83.7100   \n",
       "\n",
       "               41257      41258      41259    41260    41261    41262  \\\n",
       "SP500        2472.77  2472.8999  2472.6399  2472.02  2472.22  2471.77   \n",
       "NASDAQ.AAL     44.73    44.7600    44.7500    44.71    44.72    44.73   \n",
       "NASDAQ.AAPL   164.06   164.1900   164.2000   164.14   164.11   164.12   \n",
       "NASDAQ.ADBE   155.01   155.1200   155.0900   155.04   155.09   155.16   \n",
       "NASDAQ.ADI     83.70    83.6300    83.6900    83.66    83.67    83.65   \n",
       "\n",
       "                41263    41264    41265  \n",
       "SP500        2470.030  2471.49  2471.49  \n",
       "NASDAQ.AAL     44.740    44.71    44.74  \n",
       "NASDAQ.AAPL   164.010   163.88   163.98  \n",
       "NASDAQ.ADBE   155.065   154.96   155.16  \n",
       "NASDAQ.ADI     83.620    83.58    83.69  \n",
       "\n",
       "[5 rows x 41266 columns]"
      ]
     },
     "execution_count": 10,
     "metadata": {},
     "output_type": "execute_result"
    }
   ],
   "source": [
    "df_new.head()"
   ]
  },
  {
   "cell_type": "code",
   "execution_count": 11,
   "metadata": {
    "collapsed": false,
    "scrolled": false
   },
   "outputs": [
    {
     "data": {
      "text/html": [
       "<div>\n",
       "<style>\n",
       "    .dataframe thead tr:only-child th {\n",
       "        text-align: right;\n",
       "    }\n",
       "\n",
       "    .dataframe thead th {\n",
       "        text-align: left;\n",
       "    }\n",
       "\n",
       "    .dataframe tbody tr th {\n",
       "        vertical-align: top;\n",
       "    }\n",
       "</style>\n",
       "<table border=\"1\" class=\"dataframe\">\n",
       "  <thead>\n",
       "    <tr style=\"text-align: right;\">\n",
       "      <th></th>\n",
       "      <th>DATE</th>\n",
       "      <th>SP500</th>\n",
       "      <th>NASDAQ.AAL</th>\n",
       "      <th>NASDAQ.AAPL</th>\n",
       "      <th>NASDAQ.ADBE</th>\n",
       "      <th>NASDAQ.ADI</th>\n",
       "      <th>NASDAQ.ADP</th>\n",
       "      <th>NASDAQ.ADSK</th>\n",
       "      <th>NASDAQ.AKAM</th>\n",
       "      <th>NASDAQ.ALXN</th>\n",
       "      <th>...</th>\n",
       "      <th>NASDAQ.VRSN</th>\n",
       "      <th>NASDAQ.VRTX</th>\n",
       "      <th>NASDAQ.WBA</th>\n",
       "      <th>NASDAQ.WDC</th>\n",
       "      <th>NASDAQ.WFM</th>\n",
       "      <th>NASDAQ.WLTW</th>\n",
       "      <th>NASDAQ.WYNN</th>\n",
       "      <th>NASDAQ.XLNX</th>\n",
       "      <th>NASDAQ.XRAY</th>\n",
       "      <th>NASDAQ.ZION</th>\n",
       "    </tr>\n",
       "  </thead>\n",
       "  <tbody>\n",
       "    <tr>\n",
       "      <th>1</th>\n",
       "      <td>1491226260</td>\n",
       "      <td>0.000207</td>\n",
       "      <td>0.000708</td>\n",
       "      <td>0.000139</td>\n",
       "      <td>0.005309</td>\n",
       "      <td>0.000487</td>\n",
       "      <td>-0.000881</td>\n",
       "      <td>0.005033</td>\n",
       "      <td>0.001338</td>\n",
       "      <td>-0.000329</td>\n",
       "      <td>...</td>\n",
       "      <td>-0.003894</td>\n",
       "      <td>0.000000</td>\n",
       "      <td>0.000959</td>\n",
       "      <td>-0.000302</td>\n",
       "      <td>-0.002360</td>\n",
       "      <td>0.007046</td>\n",
       "      <td>0.007366</td>\n",
       "      <td>0.002930</td>\n",
       "      <td>0.000321</td>\n",
       "      <td>0.002378</td>\n",
       "    </tr>\n",
       "    <tr>\n",
       "      <th>2</th>\n",
       "      <td>1491226320</td>\n",
       "      <td>-0.000601</td>\n",
       "      <td>-0.001181</td>\n",
       "      <td>-0.000069</td>\n",
       "      <td>-0.000729</td>\n",
       "      <td>-0.000609</td>\n",
       "      <td>0.000710</td>\n",
       "      <td>-0.001636</td>\n",
       "      <td>-0.000752</td>\n",
       "      <td>0.003697</td>\n",
       "      <td>...</td>\n",
       "      <td>0.000344</td>\n",
       "      <td>-0.001056</td>\n",
       "      <td>0.000959</td>\n",
       "      <td>-0.004665</td>\n",
       "      <td>0.000000</td>\n",
       "      <td>0.000000</td>\n",
       "      <td>0.005132</td>\n",
       "      <td>-0.000666</td>\n",
       "      <td>-0.000160</td>\n",
       "      <td>0.000238</td>\n",
       "    </tr>\n",
       "    <tr>\n",
       "      <th>3</th>\n",
       "      <td>1491226380</td>\n",
       "      <td>0.000690</td>\n",
       "      <td>0.001417</td>\n",
       "      <td>-0.000349</td>\n",
       "      <td>-0.001169</td>\n",
       "      <td>-0.000366</td>\n",
       "      <td>-0.000710</td>\n",
       "      <td>-0.000267</td>\n",
       "      <td>-0.002931</td>\n",
       "      <td>-0.004027</td>\n",
       "      <td>...</td>\n",
       "      <td>0.001032</td>\n",
       "      <td>0.000505</td>\n",
       "      <td>0.000164</td>\n",
       "      <td>0.002789</td>\n",
       "      <td>-0.001013</td>\n",
       "      <td>-0.001986</td>\n",
       "      <td>0.001468</td>\n",
       "      <td>-0.002264</td>\n",
       "      <td>-0.002408</td>\n",
       "      <td>-0.001664</td>\n",
       "    </tr>\n",
       "    <tr>\n",
       "      <th>4</th>\n",
       "      <td>1491226440</td>\n",
       "      <td>0.000228</td>\n",
       "      <td>0.003953</td>\n",
       "      <td>0.000139</td>\n",
       "      <td>-0.001484</td>\n",
       "      <td>0.000427</td>\n",
       "      <td>-0.000784</td>\n",
       "      <td>0.002487</td>\n",
       "      <td>0.000000</td>\n",
       "      <td>0.001317</td>\n",
       "      <td>...</td>\n",
       "      <td>-0.000802</td>\n",
       "      <td>0.005127</td>\n",
       "      <td>-0.000523</td>\n",
       "      <td>-0.001758</td>\n",
       "      <td>-0.003045</td>\n",
       "      <td>0.000185</td>\n",
       "      <td>-0.002559</td>\n",
       "      <td>0.003274</td>\n",
       "      <td>0.000482</td>\n",
       "      <td>0.003088</td>\n",
       "    </tr>\n",
       "    <tr>\n",
       "      <th>5</th>\n",
       "      <td>1491226500</td>\n",
       "      <td>0.000326</td>\n",
       "      <td>0.000049</td>\n",
       "      <td>0.000835</td>\n",
       "      <td>0.001462</td>\n",
       "      <td>0.000061</td>\n",
       "      <td>-0.000196</td>\n",
       "      <td>0.002563</td>\n",
       "      <td>-0.000168</td>\n",
       "      <td>0.000822</td>\n",
       "      <td>...</td>\n",
       "      <td>-0.000115</td>\n",
       "      <td>0.000493</td>\n",
       "      <td>0.000000</td>\n",
       "      <td>0.002727</td>\n",
       "      <td>0.001355</td>\n",
       "      <td>-0.001027</td>\n",
       "      <td>-0.007463</td>\n",
       "      <td>0.000344</td>\n",
       "      <td>0.002728</td>\n",
       "      <td>0.000000</td>\n",
       "    </tr>\n",
       "  </tbody>\n",
       "</table>\n",
       "<p>5 rows × 125 columns</p>\n",
       "</div>"
      ],
      "text/plain": [
       "         DATE     SP500  NASDAQ.AAL  NASDAQ.AAPL  NASDAQ.ADBE  NASDAQ.ADI  \\\n",
       "1  1491226260  0.000207    0.000708     0.000139     0.005309    0.000487   \n",
       "2  1491226320 -0.000601   -0.001181    -0.000069    -0.000729   -0.000609   \n",
       "3  1491226380  0.000690    0.001417    -0.000349    -0.001169   -0.000366   \n",
       "4  1491226440  0.000228    0.003953     0.000139    -0.001484    0.000427   \n",
       "5  1491226500  0.000326    0.000049     0.000835     0.001462    0.000061   \n",
       "\n",
       "   NASDAQ.ADP  NASDAQ.ADSK  NASDAQ.AKAM  NASDAQ.ALXN     ...       \\\n",
       "1   -0.000881     0.005033     0.001338    -0.000329     ...        \n",
       "2    0.000710    -0.001636    -0.000752     0.003697     ...        \n",
       "3   -0.000710    -0.000267    -0.002931    -0.004027     ...        \n",
       "4   -0.000784     0.002487     0.000000     0.001317     ...        \n",
       "5   -0.000196     0.002563    -0.000168     0.000822     ...        \n",
       "\n",
       "   NASDAQ.VRSN  NASDAQ.VRTX  NASDAQ.WBA  NASDAQ.WDC  NASDAQ.WFM  NASDAQ.WLTW  \\\n",
       "1    -0.003894     0.000000    0.000959   -0.000302   -0.002360     0.007046   \n",
       "2     0.000344    -0.001056    0.000959   -0.004665    0.000000     0.000000   \n",
       "3     0.001032     0.000505    0.000164    0.002789   -0.001013    -0.001986   \n",
       "4    -0.000802     0.005127   -0.000523   -0.001758   -0.003045     0.000185   \n",
       "5    -0.000115     0.000493    0.000000    0.002727    0.001355    -0.001027   \n",
       "\n",
       "   NASDAQ.WYNN  NASDAQ.XLNX  NASDAQ.XRAY  NASDAQ.ZION  \n",
       "1     0.007366     0.002930     0.000321     0.002378  \n",
       "2     0.005132    -0.000666    -0.000160     0.000238  \n",
       "3     0.001468    -0.002264    -0.002408    -0.001664  \n",
       "4    -0.002559     0.003274     0.000482     0.003088  \n",
       "5    -0.007463     0.000344     0.002728     0.000000  \n",
       "\n",
       "[5 rows x 125 columns]"
      ]
     },
     "execution_count": 11,
     "metadata": {},
     "output_type": "execute_result"
    }
   ],
   "source": [
    "df_ret.head()"
   ]
  },
  {
   "cell_type": "code",
   "execution_count": 12,
   "metadata": {
    "collapsed": true
   },
   "outputs": [],
   "source": [
    "df_iso = df_ret.copy()"
   ]
  },
  {
   "cell_type": "code",
   "execution_count": 13,
   "metadata": {
    "collapsed": false
   },
   "outputs": [],
   "source": [
    "df_iso.drop(df_iso.columns[0:1], axis=1, inplace=True)"
   ]
  },
  {
   "cell_type": "code",
   "execution_count": 14,
   "metadata": {
    "collapsed": false,
    "scrolled": true
   },
   "outputs": [
    {
     "data": {
      "text/html": [
       "<div>\n",
       "<style>\n",
       "    .dataframe thead tr:only-child th {\n",
       "        text-align: right;\n",
       "    }\n",
       "\n",
       "    .dataframe thead th {\n",
       "        text-align: left;\n",
       "    }\n",
       "\n",
       "    .dataframe tbody tr th {\n",
       "        vertical-align: top;\n",
       "    }\n",
       "</style>\n",
       "<table border=\"1\" class=\"dataframe\">\n",
       "  <thead>\n",
       "    <tr style=\"text-align: right;\">\n",
       "      <th></th>\n",
       "      <th>1</th>\n",
       "      <th>2</th>\n",
       "      <th>3</th>\n",
       "      <th>4</th>\n",
       "      <th>5</th>\n",
       "      <th>6</th>\n",
       "      <th>7</th>\n",
       "      <th>8</th>\n",
       "      <th>9</th>\n",
       "      <th>10</th>\n",
       "      <th>...</th>\n",
       "      <th>41256</th>\n",
       "      <th>41257</th>\n",
       "      <th>41258</th>\n",
       "      <th>41259</th>\n",
       "      <th>41260</th>\n",
       "      <th>41261</th>\n",
       "      <th>41262</th>\n",
       "      <th>41263</th>\n",
       "      <th>41264</th>\n",
       "      <th>41265</th>\n",
       "    </tr>\n",
       "  </thead>\n",
       "  <tbody>\n",
       "    <tr>\n",
       "      <th>SP500</th>\n",
       "      <td>0.000207</td>\n",
       "      <td>-0.000601</td>\n",
       "      <td>0.000690</td>\n",
       "      <td>0.000228</td>\n",
       "      <td>0.000326</td>\n",
       "      <td>-0.000178</td>\n",
       "      <td>0.000038</td>\n",
       "      <td>-0.000410</td>\n",
       "      <td>0.000135</td>\n",
       "      <td>-0.000025</td>\n",
       "      <td>...</td>\n",
       "      <td>-0.000251</td>\n",
       "      <td>0.000356</td>\n",
       "      <td>0.000053</td>\n",
       "      <td>-0.000105</td>\n",
       "      <td>-0.000251</td>\n",
       "      <td>0.000081</td>\n",
       "      <td>-0.000182</td>\n",
       "      <td>-0.000704</td>\n",
       "      <td>0.000591</td>\n",
       "      <td>0.000000</td>\n",
       "    </tr>\n",
       "    <tr>\n",
       "      <th>NASDAQ.AAL</th>\n",
       "      <td>0.000708</td>\n",
       "      <td>-0.001181</td>\n",
       "      <td>0.001417</td>\n",
       "      <td>0.003953</td>\n",
       "      <td>0.000049</td>\n",
       "      <td>-0.001645</td>\n",
       "      <td>0.000000</td>\n",
       "      <td>-0.001885</td>\n",
       "      <td>-0.001416</td>\n",
       "      <td>0.001652</td>\n",
       "      <td>...</td>\n",
       "      <td>-0.000447</td>\n",
       "      <td>0.000224</td>\n",
       "      <td>0.000670</td>\n",
       "      <td>-0.000223</td>\n",
       "      <td>-0.000894</td>\n",
       "      <td>0.000224</td>\n",
       "      <td>0.000224</td>\n",
       "      <td>0.000224</td>\n",
       "      <td>-0.000671</td>\n",
       "      <td>0.000671</td>\n",
       "    </tr>\n",
       "    <tr>\n",
       "      <th>NASDAQ.AAPL</th>\n",
       "      <td>0.000139</td>\n",
       "      <td>-0.000069</td>\n",
       "      <td>-0.000349</td>\n",
       "      <td>0.000139</td>\n",
       "      <td>0.000835</td>\n",
       "      <td>0.000584</td>\n",
       "      <td>-0.000375</td>\n",
       "      <td>0.000035</td>\n",
       "      <td>-0.000104</td>\n",
       "      <td>0.000626</td>\n",
       "      <td>...</td>\n",
       "      <td>-0.000152</td>\n",
       "      <td>-0.000609</td>\n",
       "      <td>0.000792</td>\n",
       "      <td>0.000061</td>\n",
       "      <td>-0.000365</td>\n",
       "      <td>-0.000183</td>\n",
       "      <td>0.000061</td>\n",
       "      <td>-0.000670</td>\n",
       "      <td>-0.000793</td>\n",
       "      <td>0.000610</td>\n",
       "    </tr>\n",
       "    <tr>\n",
       "      <th>NASDAQ.ADBE</th>\n",
       "      <td>0.005309</td>\n",
       "      <td>-0.000729</td>\n",
       "      <td>-0.001169</td>\n",
       "      <td>-0.001484</td>\n",
       "      <td>0.001462</td>\n",
       "      <td>0.000845</td>\n",
       "      <td>-0.000307</td>\n",
       "      <td>-0.000307</td>\n",
       "      <td>0.000845</td>\n",
       "      <td>-0.000538</td>\n",
       "      <td>...</td>\n",
       "      <td>0.000000</td>\n",
       "      <td>-0.000323</td>\n",
       "      <td>0.000709</td>\n",
       "      <td>-0.000193</td>\n",
       "      <td>-0.000322</td>\n",
       "      <td>0.000322</td>\n",
       "      <td>0.000451</td>\n",
       "      <td>-0.000612</td>\n",
       "      <td>-0.000677</td>\n",
       "      <td>0.001290</td>\n",
       "    </tr>\n",
       "    <tr>\n",
       "      <th>NASDAQ.ADI</th>\n",
       "      <td>0.000487</td>\n",
       "      <td>-0.000609</td>\n",
       "      <td>-0.000366</td>\n",
       "      <td>0.000427</td>\n",
       "      <td>0.000061</td>\n",
       "      <td>0.000975</td>\n",
       "      <td>0.000852</td>\n",
       "      <td>0.000487</td>\n",
       "      <td>-0.000791</td>\n",
       "      <td>0.000548</td>\n",
       "      <td>...</td>\n",
       "      <td>0.000000</td>\n",
       "      <td>-0.000119</td>\n",
       "      <td>-0.000837</td>\n",
       "      <td>0.000717</td>\n",
       "      <td>-0.000359</td>\n",
       "      <td>0.000120</td>\n",
       "      <td>-0.000239</td>\n",
       "      <td>-0.000359</td>\n",
       "      <td>-0.000478</td>\n",
       "      <td>0.001315</td>\n",
       "    </tr>\n",
       "  </tbody>\n",
       "</table>\n",
       "<p>5 rows × 41265 columns</p>\n",
       "</div>"
      ],
      "text/plain": [
       "                1         2         3         4         5         6      \\\n",
       "SP500        0.000207 -0.000601  0.000690  0.000228  0.000326 -0.000178   \n",
       "NASDAQ.AAL   0.000708 -0.001181  0.001417  0.003953  0.000049 -0.001645   \n",
       "NASDAQ.AAPL  0.000139 -0.000069 -0.000349  0.000139  0.000835  0.000584   \n",
       "NASDAQ.ADBE  0.005309 -0.000729 -0.001169 -0.001484  0.001462  0.000845   \n",
       "NASDAQ.ADI   0.000487 -0.000609 -0.000366  0.000427  0.000061  0.000975   \n",
       "\n",
       "                7         8         9         10       ...        41256  \\\n",
       "SP500        0.000038 -0.000410  0.000135 -0.000025    ...    -0.000251   \n",
       "NASDAQ.AAL   0.000000 -0.001885 -0.001416  0.001652    ...    -0.000447   \n",
       "NASDAQ.AAPL -0.000375  0.000035 -0.000104  0.000626    ...    -0.000152   \n",
       "NASDAQ.ADBE -0.000307 -0.000307  0.000845 -0.000538    ...     0.000000   \n",
       "NASDAQ.ADI   0.000852  0.000487 -0.000791  0.000548    ...     0.000000   \n",
       "\n",
       "                41257     41258     41259     41260     41261     41262  \\\n",
       "SP500        0.000356  0.000053 -0.000105 -0.000251  0.000081 -0.000182   \n",
       "NASDAQ.AAL   0.000224  0.000670 -0.000223 -0.000894  0.000224  0.000224   \n",
       "NASDAQ.AAPL -0.000609  0.000792  0.000061 -0.000365 -0.000183  0.000061   \n",
       "NASDAQ.ADBE -0.000323  0.000709 -0.000193 -0.000322  0.000322  0.000451   \n",
       "NASDAQ.ADI  -0.000119 -0.000837  0.000717 -0.000359  0.000120 -0.000239   \n",
       "\n",
       "                41263     41264     41265  \n",
       "SP500       -0.000704  0.000591  0.000000  \n",
       "NASDAQ.AAL   0.000224 -0.000671  0.000671  \n",
       "NASDAQ.AAPL -0.000670 -0.000793  0.000610  \n",
       "NASDAQ.ADBE -0.000612 -0.000677  0.001290  \n",
       "NASDAQ.ADI  -0.000359 -0.000478  0.001315  \n",
       "\n",
       "[5 rows x 41265 columns]"
      ]
     },
     "execution_count": 14,
     "metadata": {},
     "output_type": "execute_result"
    }
   ],
   "source": [
    "df_iso = df_iso.transpose()\n",
    "df_iso.head()"
   ]
  },
  {
   "cell_type": "markdown",
   "metadata": {},
   "source": [
    "### The first task is to find clusters of stocks, using Dynamic Time Warping and K-means, for the purpose of pair selection. Selecting pairs is not a trivial task, as for the S&P 500 there are 250,000 potential pairs to choose from. Clustering will help us select \"good\" stock pairs that follow similar time-series paths, which is essential in a stock-pair trading strategy."
   ]
  },
  {
   "cell_type": "code",
   "execution_count": 15,
   "metadata": {
    "collapsed": true
   },
   "outputs": [],
   "source": [
    "def DTWDistance(s1, s2,w):\n",
    "    DTW={}\n",
    "    \n",
    "    w = max(w, abs(len(s1)-len(s2)))\n",
    "    \n",
    "    for i in range(-1,len(s1)):\n",
    "        for j in range(-1,len(s2)):\n",
    "            DTW[(i, j)] = float('inf')\n",
    "    DTW[(-1, -1)] = 0\n",
    "  \n",
    "    for i in range(len(s1)):\n",
    "        for j in range(max(0, i-w), min(len(s2), i+w)):\n",
    "            dist= (s1[i]-s2[j])**2\n",
    "            DTW[(i, j)] = dist + min(DTW[(i-1, j)],DTW[(i, j-1)], DTW[(i-1, j-1)])\n",
    "\t\t\n",
    "    return sqrt(DTW[len(s1)-1, len(s2)-1])"
   ]
  },
  {
   "cell_type": "markdown",
   "metadata": {},
   "source": [
    "### As dynamic time warping is very slow, we speed it up by using the Keogh Lower Bound to eliminate high-cost paths. We also use the FastDTW package in Python to obtain a DTW distance metric, instead of simply using the DTW package."
   ]
  },
  {
   "cell_type": "code",
   "execution_count": 16,
   "metadata": {
    "collapsed": true
   },
   "outputs": [],
   "source": [
    "def LB_Keogh(s1,s2,r):\n",
    "    LB_sum=0\n",
    "    for ind,i in enumerate(s1):\n",
    "        \n",
    "        lower_bound=min(s2[(ind-r if ind-r>=0 else 0):(ind+r)])\n",
    "        upper_bound=max(s2[(ind-r if ind-r>=0 else 0):(ind+r)])\n",
    "        \n",
    "        if i>upper_bound:\n",
    "            LB_sum=LB_sum+(i-upper_bound)**2\n",
    "        elif i<lower_bound:\n",
    "            LB_sum=LB_sum+(i-lower_bound)**2\n",
    "    \n",
    "    return math.sqrt(LB_sum)"
   ]
  },
  {
   "cell_type": "markdown",
   "metadata": {},
   "source": [
    "### The following function implements the K-means algorithm, using FastDTW as a distance metric. The \"centroids\" are average time series values. We use K=3 in this example to speed up the notebook processing time, but ideally we would choose K to be roughly equal to the square root of number of stocks we are clustering. If you receive an error running the K-means, please just run it again, that simply means that the K-means had a poor initialization."
   ]
  },
  {
   "cell_type": "code",
   "execution_count": 17,
   "metadata": {
    "collapsed": true
   },
   "outputs": [],
   "source": [
    "import random\n",
    "\n",
    "def k_means_clust(data,num_clust,num_iter,w=5):\n",
    "    #centroids=random.sample(data,num_clust)\n",
    "    centroids=pd.DataFrame(data.sample(num_clust))\n",
    "    #print(centroids)\n",
    "    counter=0\n",
    "    for n in range(num_iter):\n",
    "        counter+=1\n",
    "        print(counter)\n",
    "        assignments={}\n",
    "        #assign data points to clusters\n",
    "        #for ind,i in enumerate(data):\n",
    "        for ind,i in data.iterrows():\n",
    "            min_dist=float('inf')\n",
    "            closest_clust=None\n",
    "            #for c_ind,j in enumerate(centroids):\n",
    "            for c_ind,j in centroids.iterrows():\n",
    "                if LB_Keogh(i,j,5)<min_dist:\n",
    "                #if LB_Keogh(df_iso.iloc[i],df_iso.iloc[j],5)<min_dist:\n",
    "                #distance, path2 = fastdtw(df_iso.iloc[i],df_iso.iloc[j], dist=euclidean)\n",
    "                #if distance<min_dist:\n",
    "                    cur_dist, path2 = fastdtw(i,j, dist=euclidean)\n",
    "                    #cur_dist=DTWDistance(i,j,w)\n",
    "                    if cur_dist<min_dist:\n",
    "                        min_dist=cur_dist\n",
    "                        closest_clust=c_ind\n",
    "            if closest_clust in assignments:\n",
    "                assignments[closest_clust].append(ind)\n",
    "            else:\n",
    "                assignments[closest_clust]=[]\n",
    "    \n",
    "        print(assignments)\n",
    "        #recalculate centroids of clusters\n",
    "        for key in assignments:\n",
    "            #print(key)\n",
    "            clust_sum=0\n",
    "            #print(clust_sum)\n",
    "            #print(assignments[key])\n",
    "            for k in assignments[key]:\n",
    "                #print(k)\n",
    "                #print(data.iloc[k])\n",
    "                clust_sum=clust_sum+data.iloc[k]\n",
    "                #print(clust_sum)\n",
    "            centroids.loc[key]=[m/len(assignments[key]) for m in clust_sum]\n",
    "    \n",
    "    #return centroids\n",
    "    return centroids"
   ]
  },
  {
   "cell_type": "code",
   "execution_count": 18,
   "metadata": {
    "collapsed": true
   },
   "outputs": [],
   "source": [
    "df_iso_small = df_iso.iloc[1:125,0:100]\n",
    "df_iso_small = df_iso_small.reset_index(drop=True)"
   ]
  },
  {
   "cell_type": "markdown",
   "metadata": {},
   "source": [
    "### The results of the K-means, with K=3 are shown below. In practice we would choose a much higher K, we only chose K=3 to speed up runtime for this example. We run K-means for three iterations, and we use a Keogh Lower Bound window of 4 for this example. In practice we would most likely choose a higher window value as well, 4 is chosen to speed up the run-time."
   ]
  },
  {
   "cell_type": "code",
   "execution_count": 19,
   "metadata": {
    "collapsed": false
   },
   "outputs": [
    {
     "name": "stdout",
     "output_type": "stream",
     "text": [
      "1\n",
      "{2: [1, 2, 3, 4, 5, 6, 7, 8, 10, 11, 12, 13, 14, 15, 16, 17, 18, 20, 21, 23, 25, 26, 27, 28, 29, 30, 31, 32, 33, 35, 36, 37, 38, 39, 40, 41, 42, 43, 44, 45, 48, 49, 50, 51, 52, 53, 54, 55, 57, 58, 59, 61, 62, 63, 64, 65, 66, 67, 68, 69, 70, 71, 72, 73, 74, 75, 76, 79, 80, 81, 82, 88, 90, 91, 93, 94, 96, 97, 98, 99, 100, 101, 102, 104, 105, 106, 107, 108, 109, 112, 115, 117, 118, 119, 120, 121, 122], 22: [22, 24, 34, 46, 47, 56, 60, 77, 78, 83, 85, 87, 89, 92, 95, 110, 111, 113, 114, 116], 86: [84, 86, 103]}\n",
      "2\n",
      "{2: [1, 2, 3, 4, 6, 8, 10, 11, 12, 13, 17, 18, 19, 20, 21, 23, 25, 26, 28, 29, 30, 31, 35, 36, 38, 40, 43, 44, 45, 49, 50, 51, 52, 57, 58, 59, 60, 62, 63, 65, 66, 67, 69, 70, 71, 72, 74, 75, 76, 78, 80, 82, 88, 91, 92, 94, 96, 98, 100, 102, 104, 109, 110, 113, 115, 117, 118, 120, 121], 86: [14, 61, 79, 84, 86, 95, 103, 119], 22: [7, 15, 16, 22, 24, 27, 32, 33, 34, 37, 39, 41, 42, 46, 47, 48, 53, 54, 55, 56, 64, 68, 73, 77, 81, 83, 85, 87, 89, 90, 93, 97, 99, 101, 105, 106, 107, 108, 111, 112, 114, 116, 122]}\n",
      "3\n",
      "{2: [2, 4, 6, 11, 12, 16, 18, 19, 20, 21, 22, 25, 26, 29, 35, 36, 40, 43, 45, 47, 50, 51, 52, 57, 58, 59, 60, 62, 63, 64, 67, 68, 69, 70, 71, 72, 73, 75, 76, 78, 80, 88, 91, 92, 93, 94, 98, 100, 102, 104, 108, 109, 110, 112, 113, 115, 117, 118, 120, 121], 86: [7, 9, 13, 14, 46, 56, 61, 79, 81, 84, 86, 95, 96, 103, 119], 22: [3, 8, 10, 15, 17, 23, 24, 27, 28, 30, 31, 32, 33, 34, 37, 38, 39, 41, 42, 44, 48, 49, 53, 54, 55, 65, 66, 74, 77, 82, 83, 85, 87, 89, 90, 97, 99, 101, 105, 106, 107, 111, 114, 116, 122]}\n"
     ]
    }
   ],
   "source": [
    "centroids=k_means_clust(df_iso_small,3,3,4)"
   ]
  },
  {
   "cell_type": "markdown",
   "metadata": {},
   "source": [
    "### We plot the time-series (normalized to a stock price of 100) to visualize the similarity of the paths for stocks NASDAQ:DISCA, and NASDAQ:STX."
   ]
  },
  {
   "cell_type": "code",
   "execution_count": 20,
   "metadata": {
    "collapsed": false
   },
   "outputs": [
    {
     "data": {
      "image/png": "[encoded data removed]",
      "text/plain": [
       "<matplotlib.figure.Figure at 0x1b70d908>"
      ]
     },
     "metadata": {},
     "output_type": "display_data"
    }
   ],
   "source": [
    "plt.plot(100 * np.cumprod(1 + df_iso.iloc[32,0:500]))\n",
    "plt.plot(100 * np.cumprod(1 + df_iso.iloc[104,0:500]))\n",
    "plt.show()"
   ]
  },
  {
   "cell_type": "markdown",
   "metadata": {},
   "source": [
    "### Now that we've clustered our stocks, we can then do the second part of the strategy, which is to calculate the Kalman Filter. The two functions below plot and calculate the Kalman Filter. The Kalman Filter has two parameters, a slope parameter and intercept paramater. There is some flexibility to change the \"delta\" parameter to smooth the Kalman Filter. We use the \"pykalman\" package in python to calculate the filter."
   ]
  },
  {
   "cell_type": "code",
   "execution_count": 21,
   "metadata": {
    "collapsed": true
   },
   "outputs": [],
   "source": [
    "def draw_slope_intercept_changes(prices, state_means):\n",
    "    \"\"\"\n",
    "    Plot the slope and intercept changes from the \n",
    "    Kalman Filte calculated values.\n",
    "    \"\"\"\n",
    "    pd.DataFrame(\n",
    "        dict(\n",
    "            slope=state_means[:, 0], \n",
    "            intercept=state_means[:, 1]\n",
    "        ), index=prices.index[0:501]\n",
    "    ).plot(subplots=True)\n",
    "    plt.show()"
   ]
  },
  {
   "cell_type": "code",
   "execution_count": 22,
   "metadata": {
    "collapsed": true
   },
   "outputs": [],
   "source": [
    "def calc_slope_intercept_kalman(stock1, stock2, prices):\n",
    "    \"\"\"\n",
    "    Utilise the Kalman Filter from the pyKalman package\n",
    "    to calculate the slope and intercept of the regressed\n",
    "    ETF prices.\n",
    "    \"\"\"\n",
    "    delta = 1e-5\n",
    "    trans_cov = delta / (1 - delta) * np.eye(2)\n",
    "    obs_mat = np.vstack(\n",
    "        [prices.loc[stock1, 0:500], np.ones(prices.loc[stock1, 0:500].shape)]\n",
    "    ).T[:, np.newaxis]\n",
    "    \n",
    "    kf = KalmanFilter(\n",
    "        n_dim_obs=1, \n",
    "        n_dim_state=2,\n",
    "        initial_state_mean=np.zeros(2),\n",
    "        initial_state_covariance=np.ones((2, 2)),\n",
    "        transition_matrices=np.eye(2),\n",
    "        observation_matrices=obs_mat,\n",
    "        observation_covariance=1.0,\n",
    "        transition_covariance=trans_cov\n",
    "    )\n",
    "    \n",
    "    state_means, state_covs = kf.filter(prices.loc[stock2, 0:500].values)\n",
    "    #next_mean, next_covariance = kf.filter_update(state_means[-1], state_covs[-1], observation=143.70, observation_matrix=np.ones((2, 2)))\n",
    "    #print(next_mean)\n",
    "    #print(next_covariance)\n",
    "    \n",
    "    return state_means, state_covs  "
   ]
  },
  {
   "cell_type": "markdown",
   "metadata": {},
   "source": [
    "### We then run the Kalman Filter for stocks DISCA and STX for the first 500 minutes of trading data. We then plot the time-varying slope and intercept over the first 500 minutes."
   ]
  },
  {
   "cell_type": "code",
   "execution_count": 23,
   "metadata": {
    "collapsed": false,
    "scrolled": true
   },
   "outputs": [],
   "source": [
    "state_means, state_covs = calc_slope_intercept_kalman(df_iso.index[32], df_iso.index[104], df_new)"
   ]
  },
  {
   "cell_type": "code",
   "execution_count": 24,
   "metadata": {
    "collapsed": false
   },
   "outputs": [
    {
     "data": {
      "image/png": "[encoded data removed]",
      "text/plain": [
       "<matplotlib.figure.Figure at 0x1b5e1400>"
      ]
     },
     "metadata": {},
     "output_type": "display_data"
    }
   ],
   "source": [
    "draw_slope_intercept_changes(df_new.transpose(), state_means)"
   ]
  },
  {
   "cell_type": "markdown",
   "metadata": {},
   "source": [
    "### The next two functions \"update\" the Kalman Filter prediction based on new price data. We use the next 1,000 minutes of trading data update the prediction, then calculate the error of the prediction. The idea is that when the prediction deviates from the error by one standard deviation (which is also time-varying), we should either \"go long\" or \"go short\" the spread."
   ]
  },
  {
   "cell_type": "code",
   "execution_count": 25,
   "metadata": {
    "collapsed": false
   },
   "outputs": [],
   "source": [
    "def getError(theta, state_covs, latest_prices):\n",
    "    #delta = 1e-4\n",
    "    #wt = delta / (1 - delta) * np.eye(2)\n",
    "    vt = 1e-3\n",
    "    ##theta = np.zeros(2)\n",
    "    #theta = state_means[1]\n",
    "    P = np.zeros((2, 2))\n",
    "    ##R = None\n",
    "    #R = state_covs[1]\n",
    "    R = state_covs\n",
    "    #latest_prices = [100,200]\n",
    "    F = np.asarray([latest_prices[0], 1.0]).reshape((1, 2))\n",
    "    y = latest_prices[1]\n",
    "    yhat = F.dot(theta)\n",
    "    et = y - yhat\n",
    "    Qt = F.dot(R).dot(F.T) + vt\n",
    "    sqrt_Qt = np.sqrt(Qt)\n",
    "    return et, sqrt_Qt"
   ]
  },
  {
   "cell_type": "code",
   "execution_count": 26,
   "metadata": {
    "collapsed": true
   },
   "outputs": [],
   "source": [
    "def getUpdate(theta, state_covs, latest_prices):\n",
    "    delta = 1e-4\n",
    "    wt = delta / (1 - delta) * np.eye(2)\n",
    "    vt = 1e-3\n",
    "    ##theta = np.zeros(2)\n",
    "    #theta = state_means[1]\n",
    "    P = np.zeros((2, 2))\n",
    "    ##R = None\n",
    "    #R = state_covs[1]\n",
    "    R = state_covs\n",
    "    #latest_prices = [100,200]\n",
    "    F = np.asarray([latest_prices[0], 1.0]).reshape((1, 2))\n",
    "    y = latest_prices[1]\n",
    "    yhat = F.dot(theta)\n",
    "    et = y - yhat\n",
    "    Qt = F.dot(R).dot(F.T) + vt\n",
    "    sqrt_Qt = np.sqrt(Qt)\n",
    "    At = R.dot(F.T) / Qt\n",
    "    new_theta = theta + At.flatten() * et\n",
    "    C = R - At * F.dot(R)\n",
    "    new_R = C + wt\n",
    "    return new_theta, new_R"
   ]
  },
  {
   "cell_type": "code",
   "execution_count": 27,
   "metadata": {
    "collapsed": false
   },
   "outputs": [],
   "source": [
    "start = 500\n",
    "state_means_new = []\n",
    "state_means_new.append(state_means[-1])\n",
    "state_covs_new = []\n",
    "state_covs_new.append(state_covs[-1])\n",
    "error_list = []\n",
    "stdev_list = []\n",
    "\n",
    "for x in range(1, 1000):\n",
    "    new_price_1 = df_new.loc[df_iso.index[32], start+x]\n",
    "    new_price_2 = df_new.loc[df_iso.index[104], start+x]\n",
    "\n",
    "    my_error, my_stdev = getError(state_means_new[-1], state_covs_new[-1], [new_price_1, new_price_2])\n",
    "    my_new_theta, my_new_R = getUpdate(state_means_new[-1], state_covs_new[-1], [new_price_1, new_price_2])\n",
    "    state_means_new.append(my_new_theta)\n",
    "    state_covs_new.append(my_new_R)\n",
    "    error_list.append(my_error)\n",
    "    stdev_list.append(my_stdev[0])"
   ]
  },
  {
   "cell_type": "code",
   "execution_count": 28,
   "metadata": {
    "collapsed": false
   },
   "outputs": [],
   "source": [
    "neg_stdev_list = []\n",
    "for s in stdev_list:\n",
    "    neg_stdev_list.append(s * -1) "
   ]
  },
  {
   "cell_type": "markdown",
   "metadata": {},
   "source": [
    "### We plot the error of our prediction over the next 1,000 minutes below. Remember, each minute, the Kalman Filter was updated using the most recent prices, to generate a new prediction. The prediction is compared to the actual spread that trading day to obtain the error. The green and red lines represent our standard deviation \"boundary\". When the error exceeds the boundary we should \"go long\" or \"go short\" the spread."
   ]
  },
  {
   "cell_type": "code",
   "execution_count": 29,
   "metadata": {
    "collapsed": false
   },
   "outputs": [
    {
     "data": {
      "image/png": "[encoded data removed]",
      "text/plain": [
       "<matplotlib.figure.Figure at 0x59a5358>"
      ]
     },
     "metadata": {},
     "output_type": "display_data"
    }
   ],
   "source": [
    "plt.plot(error_list)\n",
    "plt.plot(stdev_list)\n",
    "plt.plot(neg_stdev_list)\n",
    "plt.show()"
   ]
  },
  {
   "cell_type": "markdown",
   "metadata": {
    "collapsed": true
   },
   "source": [
    "### In the future, we could use the QS Trader package in Python to rigorously back-test the strategy. Any strategy will have to take into account the bid-offer spread and other trading frictions that will most likely reduce our theoretical profit."
   ]
  }
 ],
 "metadata": {
  "anaconda-cloud": {},
  "kernelspec": {
   "display_name": "Python [Root]",
   "language": "python",
   "name": "Python [Root]"
  },
  "language_info": {
   "codemirror_mode": {
    "name": "ipython",
    "version": 3
   },
   "file_extension": ".py",
   "mimetype": "text/x-python",
   "name": "python",
   "nbconvert_exporter": "python",
   "pygments_lexer": "ipython3",
   "version": "3.5.2"
  }
 },
 "nbformat": 4,
 "nbformat_minor": 2
}
